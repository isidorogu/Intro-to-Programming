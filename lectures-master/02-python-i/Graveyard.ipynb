{
 "cells": [
  {
   "cell_type": "markdown",
   "metadata": {},
   "source": [
    "* **Let's review:** we can _import_ a module, or individual functions or constants _from_ a module.  There are many libraries out there, some of which we'll cover as we continue.\n",
    "* But we can also import entirely new types of objects.\n",
    "\n",
    "* For entirely illustrative purposes, lets consider the `turtle` module."
   ]
  },
  {
   "cell_type": "markdown",
   "metadata": {},
   "source": [
    "* For instance, perhaps we'd like to do matrix multiplication...\n",
    "  * Of course, we have 2D lists, and we _could_ write the functionality ourselves... \n",
    "* But let's import the **`numpy`** module, which provides the `ndarray` `class`, and basic functionality for matrix multiplication.\n",
    "  * Happens to be an important module for numerical methods -- but we won't need it much."
   ]
  },
  {
   "cell_type": "code",
   "execution_count": 47,
   "metadata": {
    "collapsed": false
   },
   "outputs": [
    {
     "name": "stdout",
     "output_type": "stream",
     "text": [
      "<class 'list'> <class 'numpy.ndarray'>\n"
     ]
    }
   ],
   "source": [
    "import numpy as np\n",
    "\n",
    "a = [[1, 2, 3], [4, 5, 6], [7, 8, 9]]\n",
    "amat = np.array(a)\n",
    "\n",
    "print(type(a), type(amat))"
   ]
  },
  {
   "cell_type": "markdown",
   "metadata": {},
   "source": [
    "* `a` and `amat` are fundamentally different objects, likes ints v. floats.  The new class, `numpy.ndarray` can do things that the list could not do -- like matrix multiplication.\n",
    "  * This is just as `string`s had special methods (`lower()`, `split()`, `join()`, etc.), comes with new methods/functions."
   ]
  },
  {
   "cell_type": "code",
   "execution_count": 46,
   "metadata": {
    "collapsed": false
   },
   "outputs": [
    {
     "data": {
      "text/plain": [
       "array([[60, 72, 84]])"
      ]
     },
     "execution_count": 46,
     "metadata": {},
     "output_type": "execute_result"
    }
   ],
   "source": [
    "b = np.array([[2], [4], [6]])\n",
    "b.dot(b.transpose())\n",
    "b.dot(amat)"
   ]
  },
  {
   "cell_type": "markdown",
   "metadata": {},
   "source": [
    "Or get a matrix's inverse:"
   ]
  },
  {
   "cell_type": "code",
   "execution_count": 49,
   "metadata": {
    "collapsed": false
   },
   "outputs": [
    {
     "name": "stdout",
     "output_type": "stream",
     "text": [
      "[[ 1.  0.  0.  0.]\n",
      " [ 0.  1.  0.  0.]\n",
      " [ 0.  0.  1.  0.]\n",
      " [ 0.  0.  0.  1.]]\n"
     ]
    }
   ],
   "source": [
    "g3 = np.array([[0, 0, 1, 0], [0, 0, 0, -1], [-1, 0, 0, 0], [0, 1, 0, 0]])\n",
    "g3_inv = np.linalg.inv(g3)\n",
    "\n",
    "print(g3.dot(g3_inv))"
   ]
  },
  {
   "cell_type": "markdown",
   "metadata": {},
   "source": [
    "These `numpy.ndarrays` react very differently than lists, to multiplication and division.  "
   ]
  },
  {
   "cell_type": "code",
   "execution_count": 48,
   "metadata": {
    "collapsed": false
   },
   "outputs": [
    {
     "name": "stdout",
     "output_type": "stream",
     "text": [
      "Temperatures f to C: [-273.15  -40.      0.     37.    100.  ]\n"
     ]
    }
   ],
   "source": [
    "t_arr = np.array([-459.67, -40, 32, 98.6, 212])\n",
    "print(\"Temperatures f to C:\", (t_arr - 32) * 5/9)"
   ]
  },
  {
   "cell_type": "markdown",
   "metadata": {},
   "source": [
    "<font color=darkred>**The point is, there's tremendous functionality and shortcuts, that _you don't have to write_.**</font>  It should also be clear that this new objects are pretty useful."
   ]
  },
  {
   "cell_type": "markdown",
   "metadata": {},
   "source": [
    "## Iterators\n",
    "You don't always have to make a fully realized list!\n",
    "\n",
    "It often makes sense to create an iterator or generator...\n",
    "\n",
    "### What is that!? \n",
    "\n",
    "Iterators and generators are objects that are 'ready' to generate the `next()` value in a sequence (they typically also have a stop value).  This is what's built in   The individual values are not stored!"
   ]
  },
  {
   "cell_type": "code",
   "execution_count": 1,
   "metadata": {
    "collapsed": false
   },
   "outputs": [
    {
     "data": {
      "text/plain": [
       "<generator object <genexpr> at 0x104f86938>"
      ]
     },
     "execution_count": 1,
     "metadata": {},
     "output_type": "execute_result"
    }
   ],
   "source": [
    "a = (i*i for i in range(10)) # looks a lot like list comprehensions.\n",
    "a"
   ]
  },
  {
   "cell_type": "code",
   "execution_count": 2,
   "metadata": {
    "collapsed": false
   },
   "outputs": [
    {
     "name": "stdout",
     "output_type": "stream",
     "text": [
      "0\n",
      "1\n",
      "4\n",
      "9\n",
      "16\n"
     ]
    }
   ],
   "source": [
    "print(next(a))\n",
    "print(next(a))\n",
    "print(next(a))\n",
    "print(next(a))\n",
    "print(next(a))"
   ]
  },
  {
   "cell_type": "code",
   "execution_count": null,
   "metadata": {
    "collapsed": true
   },
   "outputs": [],
   "source": [
    "def fib(N): \n",
    "    n = 0\n",
    "    i, j = 1, 1\n",
    "    while n < N:\n",
    "        n += 1\n",
    "        out = i\n",
    "        i = j\n",
    "        j += out\n",
    "        yield out\n",
    "    \n",
    "for x in fib(20): print(x)"
   ]
  }
 ],
 "metadata": {
  "anaconda-cloud": {},
  "kernelspec": {
   "display_name": "Python [Root]",
   "language": "python",
   "name": "Python [Root]"
  },
  "language_info": {
   "codemirror_mode": {
    "name": "ipython",
    "version": 3
   },
   "file_extension": ".py",
   "mimetype": "text/x-python",
   "name": "python",
   "nbconvert_exporter": "python",
   "pygments_lexer": "ipython3",
   "version": "3.5.2"
  }
 },
 "nbformat": 4,
 "nbformat_minor": 0
}
