{
 "cells": [
  {
   "cell_type": "markdown",
   "metadata": {
    "deletable": true,
    "editable": true,
    "nbpresent": {
     "id": "3b9f461f-f0fc-4fe8-b000-3073b4398d1d"
    }
   },
   "source": [
    "# Control Structures"
   ]
  },
  {
   "cell_type": "markdown",
   "metadata": {
    "deletable": true,
    "editable": true,
    "nbpresent": {
     "id": "9333fd92-58bd-48e1-8d9e-7ac09c33265a"
    }
   },
   "source": [
    "## while\n",
    "### **\"`while`\" is a `keyword` that assesses whether or not a boolean condition is true.**\n",
    "### **\"`while`\" the condition is true _before entering  block_, the subsequent _execution block_ will continue in a \"loop.\"**"
   ]
  },
  {
   "cell_type": "code",
   "execution_count": null,
   "metadata": {
    "collapsed": false,
    "deletable": true,
    "editable": true,
    "nbpresent": {
     "id": "823ab902-dba0-415c-b565-fdc5dd8a5eb8"
    }
   },
   "outputs": [],
   "source": [
    "i = 0 # assign the integer 10 to the variable i\n",
    "while i < 10:\n",
    "    print(\"I am at loop:\", i)\n",
    "    i += 1 # increment i by 1."
   ]
  },
  {
   "cell_type": "code",
   "execution_count": null,
   "metadata": {
    "collapsed": false,
    "deletable": true,
    "editable": true
   },
   "outputs": [],
   "source": [
    "i = 0 \n",
    "while i < 10:\n",
    "    print(\"I am at loop:\", i)\n",
    "    i += 100 # even on the first loop, the while condition is not satisfied\n",
    "    i -= 99  # but then we decrement it back again.\n",
    "    \n",
    "print(\"it ended when i =\", i)"
   ]
  },
  {
   "cell_type": "markdown",
   "metadata": {
    "deletable": true,
    "editable": true,
    "nbpresent": {
     "id": "710d2c57-3234-418d-aee9-f39b30bb2d3c"
    }
   },
   "source": [
    "Note the syntax:\n",
    "   * The condition to be evaluated _follows the `while` keyword_.\n",
    "   * In turn, it is succeeded by a _colon_.\n",
    "   * All of the lines within that block must have the _same level of indentation._\n",
    "   \n",
    "If the block modifies values of variables, those modified values are the ones that are used in the next loop."
   ]
  },
  {
   "cell_type": "code",
   "execution_count": null,
   "metadata": {
    "collapsed": false,
    "deletable": true,
    "editable": true,
    "nbpresent": {
     "id": "44d2bd24-a38a-4e1d-befd-5a59e50d232c"
    },
    "scrolled": true
   },
   "outputs": [],
   "source": [
    "i = 0\n",
    "while i < 2:\n",
    "    i += 1\n",
    "   print(\"¡we shall be upset!\")"
   ]
  },
  {
   "cell_type": "markdown",
   "metadata": {
    "deletable": true,
    "editable": true
   },
   "source": [
    "The conditional expression will be _cast_ as a `bool`.  So a value of 0 or an empty string or set will count as `false`:"
   ]
  },
  {
   "cell_type": "code",
   "execution_count": null,
   "metadata": {
    "collapsed": false,
    "deletable": true,
    "editable": true
   },
   "outputs": [],
   "source": [
    "print(bool([]),  bool({}),    bool(\"\"),    bool(()))\n",
    "print(bool([0]), bool({0:1}), bool(\"abc\"), bool((1, 2)))"
   ]
  },
  {
   "cell_type": "markdown",
   "metadata": {
    "deletable": true,
    "editable": true,
    "nbpresent": {
     "id": "62d786d1-8cad-4e73-86ee-f7c9a64a669d"
    }
   },
   "source": [
    "One can build complex conditions using `and`, `or`, `not`, `is`, `in`, etc.\n",
    "\n",
    "If need be, you can extend conditions from one line to the next, using the `\\` character."
   ]
  },
  {
   "cell_type": "code",
   "execution_count": null,
   "metadata": {
    "collapsed": false,
    "deletable": true,
    "editable": true,
    "nbpresent": {
     "id": "08f1541a-c57e-405c-97d3-c385e0ed37d2"
    }
   },
   "outputs": [],
   "source": [
    "# code of didactic value only...\n",
    "# to print the first integer greater than 0,\n",
    "# divisible by both 18 and 84.\n",
    "i = 1\n",
    "while (i % 18) or \\\n",
    "      (i % 84):\n",
    "    i += 1\n",
    "print(i)"
   ]
  },
  {
   "cell_type": "markdown",
   "metadata": {
    "deletable": true,
    "editable": true,
    "nbpresent": {
     "id": "b2d39c27-60cf-41d3-a328-37cd147fddef"
    }
   },
   "source": [
    "For very simple loops, one can put the block after the control statement:"
   ]
  },
  {
   "cell_type": "code",
   "execution_count": null,
   "metadata": {
    "collapsed": false,
    "deletable": true,
    "editable": true,
    "nbpresent": {
     "id": "057155d3-6816-494e-a950-8ec7dea75067"
    }
   },
   "outputs": [],
   "source": [
    "i = 1\n",
    "while (i % 18) or \\\n",
    "      (i % 84): \n",
    "    # print(i, i%18, i%84)\n",
    "    i += 1\n",
    "print(i)"
   ]
  },
  {
   "cell_type": "markdown",
   "metadata": {
    "deletable": true,
    "editable": true,
    "nbpresent": {
     "id": "9280983a-113d-4d25-9906-1b49ffd855a1"
    }
   },
   "source": [
    "   * <font color='darkred'>**Find the largest Fibonacci number below 1 billion.  (Each number in the sequence is the sum of the preceding two: 1, 1, 2, 3, 5, 8, 13...)**</font>"
   ]
  },
  {
   "cell_type": "code",
   "execution_count": null,
   "metadata": {
    "collapsed": false,
    "deletable": true,
    "editable": true
   },
   "outputs": [],
   "source": [
    "a, b = 1, 1\n",
    "while b < 1000000000:\n",
    "    \n",
    "    c = a + b\n",
    "    a = b\n",
    "    b = c\n",
    "    \n",
    "print(a)"
   ]
  },
  {
   "cell_type": "markdown",
   "metadata": {
    "deletable": true,
    "editable": true,
    "nbpresent": {
     "id": "b076846f-6121-446a-8c56-9f59f1e930c6"
    }
   },
   "source": [
    "   * <font color=darkred>**What would be the result of the following block?  (Think, don't run it.)**</font>\n",
    "   \n",
    "`i = 1\n",
    "while i != 1000:\n",
    "    print(\"I am at loop:\", i)\n",
    "    i += 2`"
   ]
  },
  {
   "cell_type": "markdown",
   "metadata": {
    "deletable": true,
    "editable": true
   },
   "source": [
    "We can \"nest\" one loop inside of another, so long as we maintain consistent indentation."
   ]
  },
  {
   "cell_type": "code",
   "execution_count": null,
   "metadata": {
    "collapsed": false,
    "deletable": true,
    "editable": true
   },
   "outputs": [],
   "source": [
    "i = 0\n",
    "while i <= 15:\n",
    "    i += 1\n",
    "    \n",
    "    j = 0\n",
    "    while j <= 15:\n",
    "        j += 1\n",
    "        print(\"X\", end = \" \")\n",
    "    \n",
    "    print()\n",
    "        "
   ]
  },
  {
   "cell_type": "markdown",
   "metadata": {
    "deletable": true,
    "editable": true,
    "nbpresent": {
     "id": "b78b1d0c-fdfb-4453-89fd-75723939f482"
    }
   },
   "source": [
    "## for\n",
    "### \"`for`\" is a `keyword` that iterates over a number of items, or an iterator."
   ]
  },
  {
   "cell_type": "markdown",
   "metadata": {
    "deletable": true,
    "editable": true,
    "nbpresent": {
     "id": "c298e35b-dbfb-4105-bf0c-86cbdd344a5c"
    }
   },
   "source": [
    "This applies in many, many circumstances.\n",
    "\n",
    "For instance, you can iterate over a list:"
   ]
  },
  {
   "cell_type": "code",
   "execution_count": null,
   "metadata": {
    "collapsed": false,
    "deletable": true,
    "editable": true,
    "nbpresent": {
     "id": "f93925a6-2dc1-4a89-a73c-ba0a317eb437"
    }
   },
   "outputs": [],
   "source": [
    "for i in [2, 4, 6, 8]:\n",
    "    print (i)\n",
    "    "
   ]
  },
  {
   "cell_type": "markdown",
   "metadata": {
    "deletable": true,
    "editable": true
   },
   "source": [
    "... or characters in a string ..."
   ]
  },
  {
   "cell_type": "code",
   "execution_count": null,
   "metadata": {
    "collapsed": false,
    "deletable": true,
    "editable": true
   },
   "outputs": [],
   "source": [
    "for a in \"abcdef\": print(a)"
   ]
  },
  {
   "cell_type": "markdown",
   "metadata": {
    "deletable": true,
    "editable": true
   },
   "source": [
    "... or lines in a file (much more on this later) ..."
   ]
  },
  {
   "cell_type": "code",
   "execution_count": null,
   "metadata": {
    "collapsed": true,
    "deletable": true,
    "editable": true
   },
   "outputs": [],
   "source": [
    "?str.strip"
   ]
  },
  {
   "cell_type": "code",
   "execution_count": null,
   "metadata": {
    "collapsed": false,
    "deletable": true,
    "editable": true
   },
   "outputs": [],
   "source": [
    "for line in open(\"ex/state_outcomes.csv\"): print(line.strip())"
   ]
  },
  {
   "cell_type": "markdown",
   "metadata": {
    "deletable": true,
    "editable": true,
    "nbpresent": {
     "id": "c46f2dc0-749b-4532-8c2d-8c588875fc04"
    }
   },
   "source": [
    "... or dictionaries ... \n",
    "\n",
    "(note that the order is not preserved.)"
   ]
  },
  {
   "cell_type": "code",
   "execution_count": null,
   "metadata": {
    "collapsed": false,
    "deletable": true,
    "editable": true,
    "nbpresent": {
     "id": "78604895-ea29-42c3-abbb-b11a718fd909"
    },
    "scrolled": true
   },
   "outputs": [],
   "source": [
    "d = {\"apples\" : \"tart and delicious\", \"bananas\" : \"chalky and offensive\", \"cucumbers\" : \"nice with mint in water.\"}\n",
    "for di in d: print(di) # iterating over the keys."
   ]
  },
  {
   "cell_type": "markdown",
   "metadata": {
    "deletable": true,
    "editable": true,
    "nbpresent": {
     "id": "ae83f945-24b6-48a0-b631-e2991378447f"
    }
   },
   "source": [
    "If you want to use both the key and the value, there are two ways:"
   ]
  },
  {
   "cell_type": "code",
   "execution_count": null,
   "metadata": {
    "collapsed": false,
    "deletable": true,
    "editable": true
   },
   "outputs": [],
   "source": [
    "d[\"apples\"]"
   ]
  },
  {
   "cell_type": "code",
   "execution_count": null,
   "metadata": {
    "collapsed": false,
    "deletable": true,
    "editable": true,
    "nbpresent": {
     "id": "4c302469-cff0-4e9a-8700-d1de48fbcb1d"
    }
   },
   "outputs": [],
   "source": [
    "for di in d: print(di, \"are\", d[di])\n",
    "    \n",
    "print(\"\\nOr alternatively (and better) ... \\n\")\n",
    "\n",
    "for di, dv in d.items(): print(di, \"are\", dv) "
   ]
  },
  {
   "cell_type": "markdown",
   "metadata": {
    "deletable": true,
    "editable": true,
    "nbpresent": {
     "id": "62a1d4db-1f93-4fec-9761-97b685a07430"
    }
   },
   "source": [
    "Similar syntax applies to sets and tuples.  (Both are similar to lists.)  Sets are useful for enforcing uniqueness."
   ]
  },
  {
   "cell_type": "markdown",
   "metadata": {
    "deletable": true,
    "editable": true,
    "nbpresent": {
     "id": "36c67d4e-5674-4a9a-8366-6c7b1698f0c7"
    }
   },
   "source": [
    "Perhaps the most common way of iterating over certain values is `range()`."
   ]
  },
  {
   "cell_type": "code",
   "execution_count": null,
   "metadata": {
    "collapsed": false,
    "deletable": true,
    "editable": true
   },
   "outputs": [],
   "source": [
    "range(10, 3, -1)"
   ]
  },
  {
   "cell_type": "code",
   "execution_count": null,
   "metadata": {
    "collapsed": false,
    "deletable": true,
    "editable": true
   },
   "outputs": [],
   "source": [
    "list(range(10, 3, -1))"
   ]
  },
  {
   "cell_type": "code",
   "execution_count": null,
   "metadata": {
    "collapsed": false,
    "deletable": true,
    "editable": true
   },
   "outputs": [],
   "source": [
    "for a in range(10): print(a)"
   ]
  },
  {
   "cell_type": "markdown",
   "metadata": {
    "deletable": true,
    "editable": true
   },
   "source": [
    "It takes 1, 2, or 3 arguments:"
   ]
  },
  {
   "cell_type": "code",
   "execution_count": null,
   "metadata": {
    "collapsed": false,
    "deletable": true,
    "editable": true,
    "nbpresent": {
     "id": "abd1df72-ee9f-4a23-b196-93c04970995e"
    }
   },
   "outputs": [],
   "source": [
    "a, b, c = -3, 3, 2\n",
    "\n",
    "for n in range(b):       print(\"First: \", n) # count to \"b\" (by ones, starting from 0)\n",
    "for n in range(a, b):    print(\"Second:\", n) # count to \"b\" (by ones, starting from a)\n",
    "for n in range(a, b, c): print(\"Third: \", n) # count to \"b\" (by \"c\",  starting from a)"
   ]
  },
  {
   "cell_type": "markdown",
   "metadata": {
    "deletable": true,
    "editable": true
   },
   "source": [
    "* **<font color=darkred>Count to 100 by 3's (print 0, 3, 6, ..., 99), four different ways.</font>**\n",
    "  * Use `range()` and multiplication\n",
    "  * Use `range()` and its various arguments\n",
    "  * Use an explicit list\n",
    "  * Use a while loop."
   ]
  },
  {
   "cell_type": "code",
   "execution_count": null,
   "metadata": {
    "collapsed": false,
    "deletable": true,
    "editable": true
   },
   "outputs": [],
   "source": [
    "# for x in range(0, 100, 3): print(x)\n",
    "# for x in range(34): print(x*3)\n",
    "\n",
    "x = 0\n",
    "while x < 100: \n",
    "    print(x)\n",
    "    x += 3"
   ]
  },
  {
   "cell_type": "markdown",
   "metadata": {
    "deletable": true,
    "editable": true
   },
   "source": [
    "* **<font color=darkred>Using `range()` and `format()`, make a multiplication table from 0 to 20, expanding on this one.</font>**\n",
    "  ```\n",
    "   0   0   0   0\n",
    "   1   2   3   4\n",
    "   2   4   6   8\n",
    "   3   6   9  12\n",
    "   4   8  12  16\n",
    "   5  10  15  20\n",
    "  ```\n",
    "See here for some inspiration: https://docs.python.org/3.6/library/string.html#format-examples\n",
    "  \n",
    "Double click to reveal answer.\n",
    "<font color=white>\n",
    "N = 20\n",
    "for i in range(N+1):\n",
    "    s = \"\"\n",
    "    for j in range(1, N):\n",
    "        s += \"{:4d}\".format(i * j)\n",
    "        \n",
    "    print(s)\n",
    "</font>"
   ]
  },
  {
   "cell_type": "markdown",
   "metadata": {
    "deletable": true,
    "editable": true,
    "nbpresent": {
     "id": "a8fdddc0-95d7-45ca-bec2-85dbfd4ac417"
    }
   },
   "source": [
    "Alternatively, you might have two lists with the same indices.  In this case, you could use `zip`:"
   ]
  },
  {
   "cell_type": "code",
   "execution_count": null,
   "metadata": {
    "collapsed": false,
    "deletable": true,
    "editable": true,
    "nbpresent": {
     "id": "d6915ad1-d039-42a2-8f2d-eb73bcbe071f"
    }
   },
   "outputs": [],
   "source": [
    "numbers = [0, 1, 2, 3, 4, 5, 6, 7, 8, 9]\n",
    "even    = [0, 2, 4, 6, 8, 10, 12, 14, 16, 18]\n",
    "\n",
    "for n, e in zip(numbers, even):\n",
    "    print(\"Even number {:2d} is {:2d}\".format(n, e))"
   ]
  },
  {
   "cell_type": "markdown",
   "metadata": {
    "deletable": true,
    "editable": true
   },
   "source": [
    "It can also be very useful to have the index of an item, as well as its value.  Use `enumerate`, which effectively `zip`s the list with a `range`:"
   ]
  },
  {
   "cell_type": "code",
   "execution_count": null,
   "metadata": {
    "collapsed": false,
    "deletable": true,
    "editable": true
   },
   "outputs": [],
   "source": [
    "for i, a in enumerate(\"abc\"):\n",
    "    print(i, a)"
   ]
  },
  {
   "cell_type": "code",
   "execution_count": null,
   "metadata": {
    "collapsed": false,
    "deletable": true,
    "editable": true
   },
   "outputs": [],
   "source": [
    "even = [0, 2, 4, 6, 8, 10]\n",
    "for n, e in enumerate(even):\n",
    "    print(n, e)"
   ]
  },
  {
   "cell_type": "markdown",
   "metadata": {
    "deletable": true,
    "editable": true,
    "nbpresent": {
     "id": "71bf0e49-2d0b-4f6a-96d5-1dfcb6193ea5"
    }
   },
   "source": [
    "## if / elif /else\n",
    "### \"`if`\" is a `keyword` that assesses whether or not a condition is true.\n",
    "### \"`if`\" so, the subsequent code block runs; `if` not, it doesn't.\n",
    "It's a lot like `while`, except that the block only runs _once_ (and introducing `elif` and `else` will change the picture)."
   ]
  },
  {
   "cell_type": "code",
   "execution_count": null,
   "metadata": {
    "collapsed": false,
    "deletable": true,
    "editable": true,
    "nbpresent": {
     "id": "8c18b4b4-ca11-4242-97cc-c678e1f8eaa1"
    }
   },
   "outputs": [],
   "source": [
    "if True:\n",
    "    print(\"it is true!\")\n",
    "    print(\"so very true!\")"
   ]
  },
  {
   "cell_type": "markdown",
   "metadata": {
    "deletable": true,
    "editable": true,
    "nbpresent": {
     "id": "8e565ce1-9815-46fe-8597-5aeca047bb89"
    }
   },
   "source": [
    "This expands the complexity of our games!\n",
    "   * <font color=darkred>**Use a for loop and a while loop to 100, but print out only the numbers divisible by three.**\n",
    "   * <font color=darkred>**Check whether 95089 or 99973 are prime.  If it's not prime, find a factor.**\n",
    "   * <font color=darkred>**How many integers are there divisible by 7, 3, _or_ 17, between 96 and 2100?**\n",
    "   * <font color=darkred>**Print the poverty rate for Louisiana, Michigan, and South Dakota, from `ex/state_outcomes.json`?**\n",
    "   * <font color=darkred>**Print only the first five lines from `ex/state_outcomes.json`.  Use `enumerate()` and `if`, and then `range()` and `zip()`**\n",
    "   * <font color=darkred>**Now find the poorest state -- the one with the highest poverty rate.**"
   ]
  },
  {
   "cell_type": "markdown",
   "metadata": {
    "deletable": true,
    "editable": true,
    "nbpresent": {
     "id": "c98ab254-78ab-48a9-8b90-cd0f716225da"
    }
   },
   "source": [
    "### **`else` is a `keyword` that precedes a block of code to run, in case the `if` statement is not true.**"
   ]
  },
  {
   "cell_type": "code",
   "execution_count": null,
   "metadata": {
    "collapsed": false,
    "deletable": true,
    "editable": true,
    "nbpresent": {
     "id": "37c9a600-a5e2-4774-b2df-0996d1ad9e90"
    }
   },
   "outputs": [],
   "source": [
    "if False:\n",
    "    print(\"only if it's true!\")\n",
    "else:\n",
    "    print (\"all the other cases\")"
   ]
  },
  {
   "cell_type": "markdown",
   "metadata": {
    "deletable": true,
    "editable": true
   },
   "source": [
    "We can now _nest_ blocks of code.  For instance, let's use a `for` loop with an `if/else` to sort even and odd numbers."
   ]
  },
  {
   "cell_type": "code",
   "execution_count": null,
   "metadata": {
    "collapsed": false,
    "deletable": true,
    "editable": true,
    "nbpresent": {
     "id": "6280ff84-e3ca-4324-866e-0d71cc3dfd3d"
    }
   },
   "outputs": [],
   "source": [
    "numbers = [71, 2, 41, 28, 88, 96, 18]\n",
    "odd, even = [], []\n",
    "\n",
    "for n in numbers:\n",
    "    if n % 2: odd. append(n)\n",
    "    else:     even.append(n)\n",
    "        \n",
    "print(\"These are even:\", even)\n",
    "print(\"These are odd: \", odd)"
   ]
  },
  {
   "cell_type": "markdown",
   "metadata": {
    "deletable": true,
    "editable": true,
    "nbpresent": {
     "id": "aaff9727-ba8d-4dd6-a695-c1289d394b17"
    }
   },
   "source": [
    "### **`elif`** allows you to test several _ordered_ possibilities."
   ]
  },
  {
   "cell_type": "code",
   "execution_count": null,
   "metadata": {
    "collapsed": false,
    "deletable": true,
    "editable": true,
    "nbpresent": {
     "id": "71d2068d-45bd-4a0d-80e4-1c069b275ed9"
    }
   },
   "outputs": [],
   "source": [
    "l = [71, -2, 28, 88, -96, 18, 19]\n",
    "for li in l:\n",
    "    if   li <= 0: print (\"{:>3} is non-positive.\".format(li))\n",
    "    elif li % 2:  print (\"{:>3} is positive and odd.\".format(li))\n",
    "    else:         print (\"{:>3} is positive and even.\".format(li))"
   ]
  },
  {
   "cell_type": "markdown",
   "metadata": {
    "deletable": true,
    "editable": true,
    "nbpresent": {
     "id": "eb5e3d87-d10a-4240-8e7d-c314b5f8fbe3"
    }
   },
   "source": [
    "## break\n",
    "### \"`break`\" stops the cycling of a `for` or `while` loop, regardless of the value of the `while` condition or the cyle of a `for` loop.**"
   ]
  },
  {
   "cell_type": "code",
   "execution_count": null,
   "metadata": {
    "collapsed": false,
    "deletable": true,
    "editable": true
   },
   "outputs": [],
   "source": [
    "characters = [\"Pan\", \"Rufio\", \"Tink\", \"Captain Hook\", \"Mr Smee\", \"Wendy\", \"Hook Jr\", \"Moira\"]\n",
    "for ci, c in enumerate(characters):\n",
    "    if \"Hook\" in c:\n",
    "        print(\"Looky looky I've got Hooky at index {}.\".format(ci))\n",
    "    else: print(\"Rock on, {}.\".format(c))"
   ]
  },
  {
   "cell_type": "markdown",
   "metadata": {
    "deletable": true,
    "editable": true
   },
   "source": [
    "* <font color=darkred>**Use a `for` loop and `enumerate()` loop with `break`, to print the first five lines from `ex/state_outcomes.json`.**"
   ]
  },
  {
   "cell_type": "markdown",
   "metadata": {
    "deletable": true,
    "editable": true
   },
   "source": [
    "Note that it only breaks out by one level:"
   ]
  },
  {
   "cell_type": "code",
   "execution_count": null,
   "metadata": {
    "collapsed": false,
    "deletable": true,
    "editable": true
   },
   "outputs": [],
   "source": [
    "for i in range(1, 16):\n",
    "    s = \"\"\n",
    "    for j in range(1, 16):\n",
    "        s += \"{:4d}\".format(i * j)\n",
    "        if j > 5: break\n",
    "        \n",
    "    print(s)"
   ]
  },
  {
   "cell_type": "markdown",
   "metadata": {
    "deletable": true,
    "editable": true,
    "nbpresent": {
     "id": "c8a51ff1-3491-4fd3-9d2f-1a9f7f3bc84c"
    }
   },
   "source": [
    "## continue\n",
    "### \"`continue`\" halts _this cycle_ of a `for` or `while` loop block, returning directly to the beginning of the block.\n",
    "It is often used to avoid performing a 'complicated' calculation that we already know is irrelevant."
   ]
  },
  {
   "cell_type": "code",
   "execution_count": null,
   "metadata": {
    "collapsed": false,
    "deletable": true,
    "editable": true,
    "nbpresent": {
     "id": "f7222e44-5ec9-4deb-9525-70490197ee71"
    }
   },
   "outputs": [],
   "source": [
    "primes = [2, 3, 5, 7, 11, 13, 17, 19, 23, 29, 31, 37, 41, \n",
    "          43, 47, 53, 59, 61, 67, 71, 73, 79, 83, 89, 97]\n",
    "for x in range(2, 20):\n",
    "    if x in primes:\n",
    "        print(\"{:2d} is prime.\".format(x))\n",
    "        continue\n",
    "        \n",
    "    # now a \"complex\" calculation we'd rather avoid...\n",
    "    factors = []\n",
    "    for p in primes:\n",
    "        if not (x % p): factors.append(p)\n",
    "            \n",
    "    print(\"{:2d} has prime factors {}.\".format(x, factors))"
   ]
  },
  {
   "cell_type": "markdown",
   "metadata": {
    "deletable": true,
    "editable": true
   },
   "source": [
    "The same thing could be accomplished with an `if/else` block, but there are cases where continue is more natural:"
   ]
  },
  {
   "cell_type": "code",
   "execution_count": null,
   "metadata": {
    "collapsed": true,
    "deletable": true,
    "editable": true
   },
   "outputs": [],
   "source": [
    "my_list = []\n",
    "for x in my_list:\n",
    "    if x.is_ugly():      continue\n",
    "    if x.is_yucky():     continue\n",
    "    if x.is_boring():    continue\n",
    "    if x.is_expensive(): continue\n",
    "    print(\"{} seems great!\".format(x))"
   ]
  },
  {
   "cell_type": "markdown",
   "metadata": {
    "deletable": true,
    "editable": true
   },
   "source": [
    "As above, continue applies only to the 'deepest' `for` or `while` loop."
   ]
  },
  {
   "cell_type": "markdown",
   "metadata": {
    "deletable": true,
    "editable": true
   },
   "source": [
    "**Write pseudocode: which control methods would you use...**\n",
    "* <font color=darkred>**If you wanted to do something 100 times?**\n",
    "* <font color=darkred>**If you wanted to keep calculating something indefinitely, until the user says to stop (`Ctrl+C`)?**\n",
    "* <font color=darkred>**If you had an indeterminate number of time-ordered observations on a subject (say, you can check `s.age()`), and wanted to skip the ones where he or she was a minor?  If, conversely, you wanted to stop the analysis when he or she reached majority?**\n",
    "* <font color=darkred>**To analyze every line in a file?**\n",
    "* <font color=darkred>**To keep accessing a website every 10 seconds, until some concert tickets are released, at an indeterminate time.**"
   ]
  },
  {
   "cell_type": "markdown",
   "metadata": {
    "deletable": true,
    "editable": true
   },
   "source": [
    "* <font color=darkred>**Now, \"for real,\" read through the `ex/state_outcomes.csv` file, and print the state with the highest income.**</font>\n",
    "  * I would suggest using [str.split()](https://docs.python.org/3.6/library/stdtypes.html#str.split) function and list indexing.\n",
    "  * You will want to use `int()`....\n",
    "  * You may want to create a few variables to do your \"search.\""
   ]
  },
  {
   "cell_type": "markdown",
   "metadata": {
    "deletable": true,
    "editable": true
   },
   "source": [
    "* <font color=darkred>**Same thing, but highest poverty.**"
   ]
  },
  {
   "cell_type": "markdown",
   "metadata": {
    "deletable": true,
    "editable": true
   },
   "source": [
    "# List Comprehension\n",
    "Last time, we talked a little bit about lists.  There is an oft-used feature to use for loops and if statements, called 'list comprehension.'"
   ]
  },
  {
   "cell_type": "markdown",
   "metadata": {
    "deletable": true,
    "editable": true
   },
   "source": [
    "Note that `range` itself is not a list -- it is actually its own special class (of immutable iterables...).\n",
    "\n",
    "**List comprehensions give us an alternative -- and often useful -- way of constructing or modifying the elements in a list.**\n",
    "\n",
    "In short, they are **one-line for loops**.  The syntax is:\n",
    "```\n",
    "[(LIST_VALUE(variable)) for variable in iterable]\n",
    "```\n",
    "\n",
    "At the simplest level, we can just turn an iterable -- a list, a dictionary, lines in files, etc. -- into a list:"
   ]
  },
  {
   "cell_type": "code",
   "execution_count": null,
   "metadata": {
    "collapsed": false,
    "deletable": true,
    "editable": true
   },
   "outputs": [],
   "source": [
    "iterable = range(10)\n",
    "[variable for variable in iterable]"
   ]
  },
  {
   "cell_type": "code",
   "execution_count": null,
   "metadata": {
    "collapsed": false
   },
   "outputs": [],
   "source": [
    "[x for x in range(10)]"
   ]
  },
  {
   "cell_type": "markdown",
   "metadata": {},
   "source": [
    "Of course, you could already do this:"
   ]
  },
  {
   "cell_type": "code",
   "execution_count": null,
   "metadata": {
    "collapsed": false
   },
   "outputs": [],
   "source": [
    "print(range(10), \"to\", list(range(10)))"
   ]
  },
  {
   "cell_type": "markdown",
   "metadata": {
    "deletable": true,
    "editable": true
   },
   "source": [
    "HOWEVER: you can perform simple operations on the objects as well:"
   ]
  },
  {
   "cell_type": "code",
   "execution_count": null,
   "metadata": {
    "collapsed": false,
    "deletable": true,
    "editable": true
   },
   "outputs": [],
   "source": [
    "[x*x for x in range(10)]"
   ]
  },
  {
   "cell_type": "markdown",
   "metadata": {
    "deletable": true,
    "editable": true
   },
   "source": [
    "This works for any of the types:"
   ]
  },
  {
   "cell_type": "code",
   "execution_count": null,
   "metadata": {
    "collapsed": false,
    "deletable": true,
    "editable": true
   },
   "outputs": [],
   "source": [
    "jack = 'The only people for me are the mad ones ...'\n",
    "print([w.upper() for w in jack.split()])"
   ]
  },
  {
   "cell_type": "markdown",
   "metadata": {
    "deletable": true,
    "editable": true
   },
   "source": [
    "And you can exclude values using `if`: "
   ]
  },
  {
   "cell_type": "code",
   "execution_count": null,
   "metadata": {
    "collapsed": false,
    "deletable": true,
    "editable": true
   },
   "outputs": [],
   "source": [
    "num = [6, -5, -5, 10, 4, 8, -6, -5, 0, -6]\n",
    "pos = [x for x in num if x > 0]\n",
    "pos"
   ]
  },
  {
   "cell_type": "markdown",
   "metadata": {
    "deletable": true,
    "editable": true
   },
   "source": [
    "Here, we take the intersection of `a` and `b`:"
   ]
  },
  {
   "cell_type": "code",
   "execution_count": null,
   "metadata": {
    "collapsed": false,
    "deletable": true,
    "editable": true
   },
   "outputs": [],
   "source": [
    "a = [1, 2, 3, 5, 6, 0, 3, 5]\n",
    "b = [1, 3, 5, 7, 9, 11, 13]\n",
    "l = [x for x in a if x in b]\n",
    "l"
   ]
  },
  {
   "cell_type": "markdown",
   "metadata": {},
   "source": [
    "In addition to lists, you can do _set_ comprehension.  Sets are just like lists, only their values are unique.  You can denote a set with curly brackets or with \"`set()`\"."
   ]
  },
  {
   "cell_type": "code",
   "execution_count": null,
   "metadata": {
    "collapsed": false
   },
   "outputs": [],
   "source": [
    "[x*x for x in range(-10, 11)]"
   ]
  },
  {
   "cell_type": "code",
   "execution_count": null,
   "metadata": {
    "collapsed": false
   },
   "outputs": [],
   "source": [
    "{x*x for x in range(-10, 11)}"
   ]
  },
  {
   "cell_type": "code",
   "execution_count": null,
   "metadata": {
    "collapsed": false
   },
   "outputs": [],
   "source": [
    "set(x*x for x in range(-10, 11))"
   ]
  },
  {
   "cell_type": "markdown",
   "metadata": {
    "deletable": true,
    "editable": true
   },
   "source": [
    "You can keep going deeper and deeper; but this gets horrible to read and debug...\n",
    "\n",
    "So _be reasonable_ -- list comprehension is an awesome tool, but there's a balance between clever one-liners and fundamental readability."
   ]
  },
  {
   "cell_type": "code",
   "execution_count": null,
   "metadata": {
    "collapsed": false,
    "deletable": true,
    "editable": true
   },
   "outputs": [],
   "source": [
    "limit = 100\n",
    "\n",
    "# make a list of every number that is a multiple of another number... i.e., not prime\n",
    "# cast the list into a set, so that it is unique.\n",
    "# (sets are basically lists with unique items)\n",
    "not_prime = {j for i in range(2,   limit) \n",
    "               for j in range(i*2, limit, i)}\n",
    "print(not_prime)"
   ]
  },
  {
   "cell_type": "markdown",
   "metadata": {
    "deletable": true,
    "editable": true
   },
   "source": [
    "* <font color=darkred>**Adapt `not_prime` from the ridiculous list comprehension above, get a list of _prime_ numbers.**</font> \n",
    "* <font color=darkred>**The range function doesn't let us step by floating point steps.  Write a list comprehension to make 101 steps from 0.0 to 10.0.**</font> \n",
    "  * In the real world, we could use `numpy` -- discussed next time.\n",
    "* <font color=darkred>**Use the `len()` function and list comprehensions to select all the words longer than three letters long, from this passage.**</font>\n",
    "* <font color=darkred>**How long is the longest word in the passage?  Use the `max([])` function.**</font>\n",
    "* <font color=darkred>**Now that you know this, print those longest words.**</font>\n",
    "   \n",
    "You don’t know about me without you have read a book by the name of _The Adventures of Tom Sawyer_; but that ain’t no matter. That book was made by Mr. Mark Twain, and he told the truth, mainly. There was things which he stretched, but mainly he told the truth. That is nothing. I never seen anybody but lied one time or another, without it was Aunt Polly, or the widow, or maybe Mary. Aunt Polly—Tom’s Aunt Polly, she is—and Mary, and the Widow Douglas is all told about in that book, which is mostly a true book, with some stretchers, as I said before.\t"
   ]
  },
  {
   "cell_type": "code",
   "execution_count": null,
   "metadata": {
    "collapsed": false,
    "deletable": true,
    "editable": true
   },
   "outputs": [],
   "source": [
    "aohf = \"You don’t know about me without you have read a book by the name of The Adventures of Tom Sawyer; but that ain’t no matter. That book was made by Mr. Mark Twain, and he told the truth, mainly. There was things which he stretched, but mainly he told the truth. That is nothing. I never seen anybody but lied one time or another, without it was Aunt Polly, or the widow, or maybe Mary. Aunt Polly—Tom’s Aunt Polly, she is—and Mary, and the Widow Douglas is all told about in that book, which is mostly a true book, with some stretchers, as I said before.\"\n",
    "\n",
    "aohf_list = aohf.lower().replace(\",\", \" \").replace(\";\", \" \").replace(\".\", \" \").replace(\"—\", \" \").split()"
   ]
  },
  {
   "cell_type": "code",
   "execution_count": null,
   "metadata": {
    "collapsed": true
   },
   "outputs": [],
   "source": []
  }
 ],
 "metadata": {
  "anaconda-cloud": {},
  "kernelspec": {
   "display_name": "Python [conda root]",
   "language": "python",
   "name": "conda-root-py"
  },
  "language_info": {
   "codemirror_mode": {
    "name": "ipython",
    "version": 3
   },
   "file_extension": ".py",
   "mimetype": "text/x-python",
   "name": "python",
   "nbconvert_exporter": "python",
   "pygments_lexer": "ipython3",
   "version": "3.5.3"
  },
  "nbpresent": {
   "slides": {
    "0afd7f23-72a1-4722-9a3f-de3df6b3397e": {
     "id": "0afd7f23-72a1-4722-9a3f-de3df6b3397e",
     "prev": "e3c1b50e-26cf-44fa-9683-e0120bff2a4f",
     "regions": {
      "7034a48d-347e-4eea-bd7f-2ff9c527a4a8": {
       "attrs": {
        "height": 0.8,
        "width": 0.8,
        "x": 0.1,
        "y": 0.1
       },
       "content": {
        "cell": "f93925a6-2dc1-4a89-a73c-ba0a317eb437",
        "part": "whole"
       },
       "id": "7034a48d-347e-4eea-bd7f-2ff9c527a4a8"
      }
     }
    },
    "0ca8685b-98d3-4fe4-866b-37d9ab56ab12": {
     "id": "0ca8685b-98d3-4fe4-866b-37d9ab56ab12",
     "prev": "9d32c01e-cd09-4bee-8fc9-b018a154f42c",
     "regions": {
      "130cc953-08f4-457d-ac98-1d76c2d6612e": {
       "attrs": {
        "height": 0.8,
        "width": 0.8,
        "x": 0.1,
        "y": 0.1
       },
       "content": {
        "cell": "823ab902-dba0-415c-b565-fdc5dd8a5eb8",
        "part": "whole"
       },
       "id": "130cc953-08f4-457d-ac98-1d76c2d6612e"
      }
     }
    },
    "1307aeab-01f5-472e-86fb-ce35d6d863eb": {
     "id": "1307aeab-01f5-472e-86fb-ce35d6d863eb",
     "prev": "6c4c9c02-a085-4f86-b11c-dd4a9d33c1cb",
     "regions": {
      "758e7402-1e8f-4e04-abd6-aa792abbb48f": {
       "attrs": {
        "height": 0.8,
        "width": 0.8,
        "x": 0.1,
        "y": 0.1
       },
       "content": {
        "cell": "aaff9727-ba8d-4dd6-a695-c1289d394b17",
        "part": "whole"
       },
       "id": "758e7402-1e8f-4e04-abd6-aa792abbb48f"
      }
     }
    },
    "1786e5d0-cd49-42fe-a2b4-766dfbb2b980": {
     "id": "1786e5d0-cd49-42fe-a2b4-766dfbb2b980",
     "prev": "5a2b1aab-3f3f-4435-8668-29f83c639b2e",
     "regions": {
      "4d831237-55b4-43bf-bb2b-0c45a9b53693": {
       "attrs": {
        "height": 0.8,
        "width": 0.8,
        "x": 0.1,
        "y": 0.1
       },
       "content": {
        "cell": "057155d3-6816-494e-a950-8ec7dea75067",
        "part": "whole"
       },
       "id": "4d831237-55b4-43bf-bb2b-0c45a9b53693"
      }
     }
    },
    "3563d1f4-d45e-4939-98a0-db8c1d328871": {
     "id": "3563d1f4-d45e-4939-98a0-db8c1d328871",
     "prev": "89995879-4f7c-42c6-8dca-8cd666e3c5f9",
     "regions": {
      "401dbf59-2fe6-415e-8581-39465bb102f6": {
       "attrs": {
        "height": 0.8,
        "width": 0.8,
        "x": 0.1,
        "y": 0.1
       },
       "content": {
        "cell": "62a1d4db-1f93-4fec-9761-97b685a07430",
        "part": "whole"
       },
       "id": "401dbf59-2fe6-415e-8581-39465bb102f6"
      }
     }
    },
    "432e25e5-44c3-4786-91ea-ca8532a83daf": {
     "id": "432e25e5-44c3-4786-91ea-ca8532a83daf",
     "prev": "3563d1f4-d45e-4939-98a0-db8c1d328871",
     "regions": {
      "757cde8e-3f54-4066-825f-6d2f35ad2b50": {
       "attrs": {
        "height": 0.8,
        "width": 0.8,
        "x": 0.1,
        "y": 0.1
       },
       "content": {
        "cell": "36c67d4e-5674-4a9a-8366-6c7b1698f0c7",
        "part": "whole"
       },
       "id": "757cde8e-3f54-4066-825f-6d2f35ad2b50"
      }
     }
    },
    "508114cc-e6fa-4a5d-a36b-1d64d3642b0d": {
     "id": "508114cc-e6fa-4a5d-a36b-1d64d3642b0d",
     "prev": null,
     "regions": {
      "86995475-274f-423a-b94b-3288b5583653": {
       "attrs": {
        "height": 0.8,
        "width": 0.8,
        "x": 0.1,
        "y": 0.1
       },
       "content": {
        "cell": "3b9f461f-f0fc-4fe8-b000-3073b4398d1d",
        "part": "whole"
       },
       "id": "86995475-274f-423a-b94b-3288b5583653"
      }
     }
    },
    "599fda77-3e95-444b-a258-66a2dc9c6275": {
     "id": "599fda77-3e95-444b-a258-66a2dc9c6275",
     "prev": "1786e5d0-cd49-42fe-a2b4-766dfbb2b980",
     "regions": {
      "1d8091f4-c61b-43c5-8f70-5fd986cbeb17": {
       "attrs": {
        "height": 0.8,
        "width": 0.8,
        "x": 0.1,
        "y": 0.1
       },
       "content": {
        "cell": "9280983a-113d-4d25-9906-1b49ffd855a1",
        "part": "whole"
       },
       "id": "1d8091f4-c61b-43c5-8f70-5fd986cbeb17"
      }
     }
    },
    "5a2b1aab-3f3f-4435-8668-29f83c639b2e": {
     "id": "5a2b1aab-3f3f-4435-8668-29f83c639b2e",
     "prev": "a9bfb26f-caf2-4441-8fb3-3a06bc77dcb9",
     "regions": {
      "74641cdc-0aa2-44a4-8548-4cf252f34786": {
       "attrs": {
        "height": 0.8,
        "width": 0.8,
        "x": 0.1,
        "y": 0.1
       },
       "content": {
        "cell": "b2d39c27-60cf-41d3-a328-37cd147fddef",
        "part": "whole"
       },
       "id": "74641cdc-0aa2-44a4-8548-4cf252f34786"
      }
     }
    },
    "691e8da1-9c1f-4635-9da2-f7acb7e61452": {
     "id": "691e8da1-9c1f-4635-9da2-f7acb7e61452",
     "prev": "599fda77-3e95-444b-a258-66a2dc9c6275",
     "regions": {
      "b720e67b-3855-4ff4-9ae1-0d40e7d7aba0": {
       "attrs": {
        "height": 0.8,
        "width": 0.8,
        "x": 0.1,
        "y": 0.1
       },
       "content": {
        "cell": "da674905-c560-4e60-ba4b-8a644a0617af",
        "part": "whole"
       },
       "id": "b720e67b-3855-4ff4-9ae1-0d40e7d7aba0"
      }
     }
    },
    "694846d4-e5fd-409f-98bb-c080cecd0c13": {
     "id": "694846d4-e5fd-409f-98bb-c080cecd0c13",
     "prev": "74f3e686-739d-455f-8466-9c2c3df324dd",
     "regions": {
      "cb02ffd0-61be-47cc-bd08-e9363f411d97": {
       "attrs": {
        "height": 0.8,
        "width": 0.8,
        "x": 0.1,
        "y": 0.1
       },
       "content": {
        "cell": "eb5e3d87-d10a-4240-8e7d-c314b5f8fbe3",
        "part": "whole"
       },
       "id": "cb02ffd0-61be-47cc-bd08-e9363f411d97"
      }
     }
    },
    "6c4c9c02-a085-4f86-b11c-dd4a9d33c1cb": {
     "id": "6c4c9c02-a085-4f86-b11c-dd4a9d33c1cb",
     "prev": "b2f9a917-8a46-4d39-99db-6217dc7e97d7",
     "regions": {
      "12e8b009-373d-4ef2-a6de-12e99498a886": {
       "attrs": {
        "height": 0.8,
        "width": 0.8,
        "x": 0.1,
        "y": 0.1
       },
       "content": {
        "cell": "6280ff84-e3ca-4324-866e-0d71cc3dfd3d",
        "part": "whole"
       },
       "id": "12e8b009-373d-4ef2-a6de-12e99498a886"
      }
     }
    },
    "70b93ee0-9709-45f1-a7df-5e97ef924e6b": {
     "id": "70b93ee0-9709-45f1-a7df-5e97ef924e6b",
     "prev": "86c9bd85-f962-4085-8662-6310ef141b3b",
     "regions": {
      "891cdafd-a1e8-4486-9591-d26cd598b010": {
       "attrs": {
        "height": 0.8,
        "width": 0.8,
        "x": 0.1,
        "y": 0.1
       },
       "content": {
        "cell": "ae83f945-24b6-48a0-b631-e2991378447f",
        "part": "whole"
       },
       "id": "891cdafd-a1e8-4486-9591-d26cd598b010"
      }
     }
    },
    "74f3e686-739d-455f-8466-9c2c3df324dd": {
     "id": "74f3e686-739d-455f-8466-9c2c3df324dd",
     "prev": "1307aeab-01f5-472e-86fb-ce35d6d863eb",
     "regions": {
      "d74c2ac9-29a6-4fff-9966-4ce33da560cd": {
       "attrs": {
        "height": 0.8,
        "width": 0.8,
        "x": 0.1,
        "y": 0.1
       },
       "content": {
        "cell": "71d2068d-45bd-4a0d-80e4-1c069b275ed9",
        "part": "whole"
       },
       "id": "d74c2ac9-29a6-4fff-9966-4ce33da560cd"
      }
     }
    },
    "7a382677-9dbc-4f7b-8a4b-5b239869c8bd": {
     "id": "7a382677-9dbc-4f7b-8a4b-5b239869c8bd",
     "prev": "b78c9033-6aa0-40f8-ae94-055fd7e3795b",
     "regions": {
      "d50c4ee3-3644-4421-951c-ef073d4a92d2": {
       "attrs": {
        "height": 0.8,
        "width": 0.8,
        "x": 0.1,
        "y": 0.1
       },
       "content": {
        "cell": "71bf0e49-2d0b-4f6a-96d5-1dfcb6193ea5",
        "part": "whole"
       },
       "id": "d50c4ee3-3644-4421-951c-ef073d4a92d2"
      }
     }
    },
    "86c9bd85-f962-4085-8662-6310ef141b3b": {
     "id": "86c9bd85-f962-4085-8662-6310ef141b3b",
     "prev": "9d0ba57b-73c1-40e8-b11c-b31986b894b1",
     "regions": {
      "411044b8-c8b2-47b7-8724-9bdc1aa2e526": {
       "attrs": {
        "height": 0.8,
        "width": 0.8,
        "x": 0.1,
        "y": 0.1
       },
       "content": {
        "cell": "78604895-ea29-42c3-abbb-b11a718fd909",
        "part": "whole"
       },
       "id": "411044b8-c8b2-47b7-8724-9bdc1aa2e526"
      }
     }
    },
    "89995879-4f7c-42c6-8dca-8cd666e3c5f9": {
     "id": "89995879-4f7c-42c6-8dca-8cd666e3c5f9",
     "prev": "70b93ee0-9709-45f1-a7df-5e97ef924e6b",
     "regions": {
      "f0234f54-ea1a-42a8-85fe-786a8dbaf221": {
       "attrs": {
        "height": 0.8,
        "width": 0.8,
        "x": 0.1,
        "y": 0.1
       },
       "content": {
        "cell": "4c302469-cff0-4e9a-8700-d1de48fbcb1d",
        "part": "whole"
       },
       "id": "f0234f54-ea1a-42a8-85fe-786a8dbaf221"
      }
     }
    },
    "8ed12820-9d75-4de9-b2ed-c15ecc5c0400": {
     "id": "8ed12820-9d75-4de9-b2ed-c15ecc5c0400",
     "prev": "432e25e5-44c3-4786-91ea-ca8532a83daf",
     "regions": {
      "edef9abb-4ed0-499f-a276-f109ad7bad56": {
       "attrs": {
        "height": 0.8,
        "width": 0.8,
        "x": 0.1,
        "y": 0.1
       },
       "content": {
        "cell": "abd1df72-ee9f-4a23-b196-93c04970995e",
        "part": "whole"
       },
       "id": "edef9abb-4ed0-499f-a276-f109ad7bad56"
      }
     }
    },
    "9656913a-3269-4d8e-9cee-d86db24340d7": {
     "id": "9656913a-3269-4d8e-9cee-d86db24340d7",
     "prev": "a351b72e-7581-43ac-8d60-7d81872802e2",
     "regions": {
      "a4cc34be-d945-4956-93f8-989016e39333": {
       "attrs": {
        "height": 0.8,
        "width": 0.8,
        "x": 0.1,
        "y": 0.1
       },
       "content": {
        "cell": "8e565ce1-9815-46fe-8597-5aeca047bb89",
        "part": "whole"
       },
       "id": "a4cc34be-d945-4956-93f8-989016e39333"
      }
     }
    },
    "9d0ba57b-73c1-40e8-b11c-b31986b894b1": {
     "id": "9d0ba57b-73c1-40e8-b11c-b31986b894b1",
     "prev": "0afd7f23-72a1-4722-9a3f-de3df6b3397e",
     "regions": {
      "4db47bc2-6270-4da5-8c75-ce4be05a7d1f": {
       "attrs": {
        "height": 0.8,
        "width": 0.8,
        "x": 0.1,
        "y": 0.1
       },
       "content": {
        "cell": "c46f2dc0-749b-4532-8c2d-8c588875fc04",
        "part": "whole"
       },
       "id": "4db47bc2-6270-4da5-8c75-ce4be05a7d1f"
      }
     }
    },
    "9d32c01e-cd09-4bee-8fc9-b018a154f42c": {
     "id": "9d32c01e-cd09-4bee-8fc9-b018a154f42c",
     "prev": "508114cc-e6fa-4a5d-a36b-1d64d3642b0d",
     "regions": {
      "3450127c-ab11-4ef0-90fd-e78b02706a98": {
       "attrs": {
        "height": 0.8,
        "width": 0.8,
        "x": 0.1,
        "y": 0.1
       },
       "content": {
        "cell": "9333fd92-58bd-48e1-8d9e-7ac09c33265a",
        "part": "whole"
       },
       "id": "3450127c-ab11-4ef0-90fd-e78b02706a98"
      }
     }
    },
    "a1590f47-3341-47c9-a4c1-3fe93eb5458c": {
     "id": "a1590f47-3341-47c9-a4c1-3fe93eb5458c",
     "prev": "9656913a-3269-4d8e-9cee-d86db24340d7",
     "regions": {
      "d276480e-af4b-45b6-ac70-64e687fa9955": {
       "attrs": {
        "height": 0.8,
        "width": 0.8,
        "x": 0.1,
        "y": 0.1
       },
       "content": {
        "cell": "c98ab254-78ab-48a9-8b90-cd0f716225da",
        "part": "whole"
       },
       "id": "d276480e-af4b-45b6-ac70-64e687fa9955"
      }
     }
    },
    "a351b72e-7581-43ac-8d60-7d81872802e2": {
     "id": "a351b72e-7581-43ac-8d60-7d81872802e2",
     "prev": "7a382677-9dbc-4f7b-8a4b-5b239869c8bd",
     "regions": {
      "0e1ae031-64fe-49f7-ab5c-879cd6916fed": {
       "attrs": {
        "height": 0.8,
        "width": 0.8,
        "x": 0.1,
        "y": 0.1
       },
       "content": {
        "cell": "8c18b4b4-ca11-4242-97cc-c678e1f8eaa1",
        "part": "whole"
       },
       "id": "0e1ae031-64fe-49f7-ab5c-879cd6916fed"
      }
     }
    },
    "a55e5bee-d621-469a-8222-0dd7c43be887": {
     "id": "a55e5bee-d621-469a-8222-0dd7c43be887",
     "prev": "8ed12820-9d75-4de9-b2ed-c15ecc5c0400",
     "regions": {
      "de1fa733-8976-429b-8f22-5901aadc70c8": {
       "attrs": {
        "height": 0.8,
        "width": 0.8,
        "x": 0.1,
        "y": 0.1
       },
       "content": {
        "cell": "a8fdddc0-95d7-45ca-bec2-85dbfd4ac417",
        "part": "whole"
       },
       "id": "de1fa733-8976-429b-8f22-5901aadc70c8"
      }
     }
    },
    "a6c61384-6b2d-4f8f-aaae-e3f3981e7215": {
     "id": "a6c61384-6b2d-4f8f-aaae-e3f3981e7215",
     "prev": "694846d4-e5fd-409f-98bb-c080cecd0c13",
     "regions": {
      "edfc6da6-5ac5-48e3-8497-9a9d3c644aab": {
       "attrs": {
        "height": 0.8,
        "width": 0.8,
        "x": 0.1,
        "y": 0.1
       },
       "content": {
        "cell": "c8a51ff1-3491-4fd3-9d2f-1a9f7f3bc84c",
        "part": "whole"
       },
       "id": "edfc6da6-5ac5-48e3-8497-9a9d3c644aab"
      }
     }
    },
    "a9bfb26f-caf2-4441-8fb3-3a06bc77dcb9": {
     "id": "a9bfb26f-caf2-4441-8fb3-3a06bc77dcb9",
     "prev": "b9198abb-aace-46c5-94ce-592539de656c",
     "regions": {
      "20db10e3-4ee9-429e-bf71-3bc031a24b2d": {
       "attrs": {
        "height": 0.8,
        "width": 0.8,
        "x": 0.1,
        "y": 0.1
       },
       "content": {
        "cell": "08f1541a-c57e-405c-97d3-c385e0ed37d2",
        "part": "whole"
       },
       "id": "20db10e3-4ee9-429e-bf71-3bc031a24b2d"
      }
     }
    },
    "b2f9a917-8a46-4d39-99db-6217dc7e97d7": {
     "id": "b2f9a917-8a46-4d39-99db-6217dc7e97d7",
     "prev": "a1590f47-3341-47c9-a4c1-3fe93eb5458c",
     "regions": {
      "7d90e80c-1489-43bc-aa8b-66acf4ddde9a": {
       "attrs": {
        "height": 0.8,
        "width": 0.8,
        "x": 0.1,
        "y": 0.1
       },
       "content": {
        "cell": "37c9a600-a5e2-4774-b2df-0996d1ad9e90",
        "part": "whole"
       },
       "id": "7d90e80c-1489-43bc-aa8b-66acf4ddde9a"
      }
     }
    },
    "b78c9033-6aa0-40f8-ae94-055fd7e3795b": {
     "id": "b78c9033-6aa0-40f8-ae94-055fd7e3795b",
     "prev": "a55e5bee-d621-469a-8222-0dd7c43be887",
     "regions": {
      "5c8d3802-e6bb-476a-af03-e48f60044098": {
       "attrs": {
        "height": 0.8,
        "width": 0.8,
        "x": 0.1,
        "y": 0.1
       },
       "content": {
        "cell": "d6915ad1-d039-42a2-8f2d-eb73bcbe071f",
        "part": "whole"
       },
       "id": "5c8d3802-e6bb-476a-af03-e48f60044098"
      }
     }
    },
    "b9198abb-aace-46c5-94ce-592539de656c": {
     "id": "b9198abb-aace-46c5-94ce-592539de656c",
     "prev": "cbd1a4f4-a7bc-45d0-afcb-5716adcb7a37",
     "regions": {
      "ac746904-b9a9-425c-85ff-e997ffb3e70b": {
       "attrs": {
        "height": 0.8,
        "width": 0.8,
        "x": 0.1,
        "y": 0.1
       },
       "content": {
        "cell": "62d786d1-8cad-4e73-86ee-f7c9a64a669d",
        "part": "whole"
       },
       "id": "ac746904-b9a9-425c-85ff-e997ffb3e70b"
      }
     }
    },
    "bad4e026-7cdc-4994-a804-b1513d9aa108": {
     "id": "bad4e026-7cdc-4994-a804-b1513d9aa108",
     "prev": "e8e08828-721b-4464-8182-f935b25b85e5",
     "regions": {
      "faa1ac29-a3af-4355-91bb-3a683e58d656": {
       "attrs": {
        "height": 0.8,
        "width": 0.8,
        "x": 0.1,
        "y": 0.1
       },
       "content": {
        "cell": "b78b1d0c-fdfb-4453-89fd-75723939f482",
        "part": "whole"
       },
       "id": "faa1ac29-a3af-4355-91bb-3a683e58d656"
      }
     }
    },
    "ca4aae52-8e29-4184-bb8d-61bf24cdac9a": {
     "id": "ca4aae52-8e29-4184-bb8d-61bf24cdac9a",
     "prev": "0ca8685b-98d3-4fe4-866b-37d9ab56ab12",
     "regions": {
      "f9064085-c8ba-4832-be0b-89d5d5a6d8a2": {
       "attrs": {
        "height": 0.8,
        "width": 0.8,
        "x": 0.1,
        "y": 0.1
       },
       "content": {
        "cell": "710d2c57-3234-418d-aee9-f39b30bb2d3c",
        "part": "whole"
       },
       "id": "f9064085-c8ba-4832-be0b-89d5d5a6d8a2"
      }
     }
    },
    "cbd1a4f4-a7bc-45d0-afcb-5716adcb7a37": {
     "id": "cbd1a4f4-a7bc-45d0-afcb-5716adcb7a37",
     "prev": "ca4aae52-8e29-4184-bb8d-61bf24cdac9a",
     "regions": {
      "d58a7528-8db5-452b-82e5-5e6b0a69b787": {
       "attrs": {
        "height": 0.8,
        "width": 0.8,
        "x": 0.1,
        "y": 0.1
       },
       "content": {
        "cell": "44d2bd24-a38a-4e1d-befd-5a59e50d232c",
        "part": "whole"
       },
       "id": "d58a7528-8db5-452b-82e5-5e6b0a69b787"
      }
     }
    },
    "ddb1c13e-b13a-40d8-97c3-7a62f2727265": {
     "id": "ddb1c13e-b13a-40d8-97c3-7a62f2727265",
     "prev": "a6c61384-6b2d-4f8f-aaae-e3f3981e7215",
     "regions": {
      "82c47bb0-f461-4a0f-80cc-173883368a77": {
       "attrs": {
        "height": 0.8,
        "width": 0.8,
        "x": 0.1,
        "y": 0.1
       },
       "content": {
        "cell": "f7222e44-5ec9-4deb-9525-70490197ee71",
        "part": "whole"
       },
       "id": "82c47bb0-f461-4a0f-80cc-173883368a77"
      }
     }
    },
    "e3c1b50e-26cf-44fa-9683-e0120bff2a4f": {
     "id": "e3c1b50e-26cf-44fa-9683-e0120bff2a4f",
     "prev": "bad4e026-7cdc-4994-a804-b1513d9aa108",
     "regions": {
      "c57666ec-bcc5-4388-b52b-b6609254ee72": {
       "attrs": {
        "height": 0.8,
        "width": 0.8,
        "x": 0.1,
        "y": 0.1
       },
       "content": {
        "cell": "c298e35b-dbfb-4105-bf0c-86cbdd344a5c",
        "part": "whole"
       },
       "id": "c57666ec-bcc5-4388-b52b-b6609254ee72"
      }
     }
    },
    "e8e08828-721b-4464-8182-f935b25b85e5": {
     "id": "e8e08828-721b-4464-8182-f935b25b85e5",
     "prev": "691e8da1-9c1f-4635-9da2-f7acb7e61452",
     "regions": {
      "16b555b0-9300-4ba5-b176-b7418c9e9316": {
       "attrs": {
        "height": 0.8,
        "width": 0.8,
        "x": 0.1,
        "y": 0.1
       },
       "content": {
        "cell": "b076846f-6121-446a-8c56-9f59f1e930c6",
        "part": "whole"
       },
       "id": "16b555b0-9300-4ba5-b176-b7418c9e9316"
      }
     }
    }
   },
   "themes": {}
  }
 },
 "nbformat": 4,
 "nbformat_minor": 0
}
