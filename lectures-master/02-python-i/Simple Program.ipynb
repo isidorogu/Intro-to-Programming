{
 "cells": [
  {
   "cell_type": "markdown",
   "metadata": {
    "deletable": true,
    "editable": true,
    "nbpresent": {
     "id": "b2667aa6-38d2-4e3f-a920-2218ad016d28"
    },
    "slideshow": {
     "slide_type": "slide"
    }
   },
   "source": [
    "# Hello World -- Our First Python Script"
   ]
  },
  {
   "cell_type": "markdown",
   "metadata": {
    "deletable": true,
    "editable": true
   },
   "source": [
    "* Open your editor -- atom or Spyder.\n",
    "* Just as last week, let's write a tiny script.\n",
    "* To execute this code _in jupyter_, create a cell, and then Shift+Enter"
   ]
  },
  {
   "cell_type": "code",
   "execution_count": null,
   "metadata": {
    "collapsed": false,
    "deletable": true,
    "editable": true,
    "nbpresent": {
     "id": "968e5f01-51e7-4093-b44b-8921a5e86399"
    },
    "slideshow": {
     "slide_type": "subslide"
    }
   },
   "outputs": [],
   "source": [
    "print(\"Hello world!\")"
   ]
  },
  {
   "cell_type": "markdown",
   "metadata": {
    "deletable": true,
    "editable": true,
    "nbpresent": {
     "id": "b84e8858-fe49-48cf-9409-d281bc334ef0"
    },
    "slideshow": {
     "slide_type": "subslide"
    }
   },
   "source": [
    "   * `print()` is a special **function** that we need now, for demonstration.  We'll talk _a lot_ more about functions next week.\n",
    "   * For now, just know that `print` is python's word for spitting text back to the prompt for humans to read.\n",
    "   * It can take as many **arguments** (variables) as you want, all separated by commas.\n",
    "   * If you are ever confused about a function you can do "
   ]
  },
  {
   "cell_type": "code",
   "execution_count": null,
   "metadata": {
    "collapsed": true
   },
   "outputs": [],
   "source": [
    "?print"
   ]
  },
  {
   "cell_type": "markdown",
   "metadata": {},
   "source": [
    "in jupyter, or, from the command line, \n",
    "```\n",
    "pydoc print\n",
    "```\n",
    "Protip: from a jupyter notebook, use an exclamation point to \"get to the command line\":"
   ]
  },
  {
   "cell_type": "code",
   "execution_count": null,
   "metadata": {
    "collapsed": false
   },
   "outputs": [],
   "source": [
    "! pydoc print"
   ]
  },
  {
   "cell_type": "code",
   "execution_count": null,
   "metadata": {
    "collapsed": false,
    "deletable": true,
    "editable": true,
    "nbpresent": {
     "id": "60a9a178-1084-49ed-9496-7d0831c220f5"
    },
    "slideshow": {
     "slide_type": "subslide"
    }
   },
   "outputs": [],
   "source": [
    "print(\"a\", \"b\", \"c\")"
   ]
  },
  {
   "cell_type": "markdown",
   "metadata": {
    "deletable": true,
    "editable": true
   },
   "source": [
    "To this, we can add the line (at the top)\n",
    "\n",
    "`#!/usr/bin/env python`\n",
    "\n",
    "to define `python` as the language for executing it.  We can then run the script as \n",
    "\n",
    "`./my_script.py`\n",
    "\n",
    "instead of \n",
    "\n",
    "`python my_script.py`\n",
    "\n",
    "Doesn't work?  Make the script executable!"
   ]
  },
  {
   "cell_type": "markdown",
   "metadata": {
    "deletable": true,
    "editable": true,
    "nbpresent": {
     "id": "0567ce38-17b4-44a1-94c8-7478320caf83"
    },
    "slideshow": {
     "slide_type": "slide"
    }
   },
   "source": [
    "### Variables\n",
    "Let's make it a bit more interesting, by using a variable:"
   ]
  },
  {
   "cell_type": "code",
   "execution_count": null,
   "metadata": {
    "collapsed": false,
    "deletable": true,
    "editable": true,
    "nbpresent": {
     "id": "8dd279a5-5b0b-49b4-913e-12c751b048b0"
    },
    "slideshow": {
     "slide_type": "subslide"
    }
   },
   "outputs": [],
   "source": [
    "hw = \"Hello world!  # here we _assign_ a variable.\n",
    "print(hw)           # *THIS* is a comment.\n",
    "print(\"hw\")"
   ]
  },
  {
   "cell_type": "markdown",
   "metadata": {
    "deletable": true,
    "editable": true,
    "nbpresent": {
     "id": "6ebd17c9-234c-497f-8bce-5253edf574ad"
    },
    "slideshow": {
     "slide_type": "slide"
    }
   },
   "source": [
    "That should give us our first error.  Python tends to give very useful feedback when you make mistakes.  Can you correct the mistake?  (EOL = end of line.)\n",
    "\n",
    "**The computer is <font color=darkred>NEVER</font> wrong.**  (It will definitely feel as though it is -- think of it as an exercise in humility. ☺)"
   ]
  },
  {
   "cell_type": "markdown",
   "metadata": {
    "deletable": true,
    "editable": true,
    "nbpresent": {
     "id": "a35f0ec9-6020-41be-8154-413f16c000ad"
    },
    "slideshow": {
     "slide_type": "fragment"
    }
   },
   "source": [
    "   * Important note: in _Think Python_ and elsewhere, you will find many example like \"`print x, y, z`\" and then be surprised to find that your example doesn't run (`Missing parentheses in call to 'print'`).  That is Python 2.  In this class we'll use Python 3.  There are a few other nitpicky differences."
   ]
  },
  {
   "cell_type": "code",
   "execution_count": null,
   "metadata": {
    "collapsed": false,
    "deletable": true,
    "editable": true,
    "nbpresent": {
     "id": "ab0d0785-f0fa-43d0-a534-e9da841a0999"
    },
    "slideshow": {
     "slide_type": "subslide"
    }
   },
   "outputs": [],
   "source": [
    "# print 1, 2, 3\n",
    "print(1, 2, 3)"
   ]
  },
  {
   "cell_type": "markdown",
   "metadata": {
    "deletable": true,
    "editable": true,
    "nbpresent": {
     "id": "f29ad28c-d3da-4389-8005-3f5b7da61775"
    },
    "slideshow": {
     "slide_type": "slide"
    }
   },
   "source": [
    "### Simple Calculations with _Literals_"
   ]
  },
  {
   "cell_type": "code",
   "execution_count": null,
   "metadata": {
    "collapsed": false,
    "deletable": true,
    "editable": true,
    "nbpresent": {
     "id": "9439d6d6-7fab-4458-bfd3-d562ef3bab04"
    },
    "slideshow": {
     "slide_type": "subslide"
    }
   },
   "outputs": [],
   "source": [
    "5 * 5"
   ]
  },
  {
   "cell_type": "code",
   "execution_count": null,
   "metadata": {
    "collapsed": false,
    "deletable": true,
    "editable": true,
    "nbpresent": {
     "id": "01156501-ad9e-4f60-98eb-6cb0042b1eb4"
    },
    "slideshow": {
     "slide_type": "subslide"
    }
   },
   "outputs": [],
   "source": [
    "print(\"160 plus tax and tip:\", 160 * (1 + 0.07 + 0.20))"
   ]
  },
  {
   "cell_type": "code",
   "execution_count": null,
   "metadata": {
    "collapsed": false,
    "deletable": true,
    "editable": true,
    "nbpresent": {
     "id": "f3044324-e8c0-40db-b5d4-21486e8a3768"
    },
    "slideshow": {
     "slide_type": "subslide"
    }
   },
   "outputs": [],
   "source": [
    "a = 5\n",
    "print(a, \"miles is\", a * 1.61, \"km.\")\n",
    "print(a, \"km is\", a / 1.61, \"miles.\")"
   ]
  },
  {
   "cell_type": "markdown",
   "metadata": {
    "deletable": true,
    "editable": true,
    "nbpresent": {
     "id": "82e81c55-6c3b-479c-8dae-f7eecd2781a9"
    },
    "slideshow": {
     "slide_type": "slide"
    }
   },
   "source": [
    "### Comments.\n",
    "   * Comments are a <font color=darkred>**CRITICAL**</font> part of code.\n",
    "   * They exist _only_ to you help you and other humans understand what you've written.\n",
    "     * Specifically, I and your TA will thank you and give you points.\n",
    "   * They are denoted using a \"hash\", \"pound\", or \"octothorpe\".\n",
    "   * It can include an entire line, or just a part of a line."
   ]
  },
  {
   "cell_type": "code",
   "execution_count": null,
   "metadata": {
    "collapsed": false,
    "deletable": true,
    "editable": true,
    "nbpresent": {
     "id": "5a97dda1-e884-49cb-af7a-0d3a48f2620d"
    },
    "slideshow": {
     "slide_type": "subslide"
    }
   },
   "outputs": [],
   "source": [
    "# This is just for humans.\n",
    "# print(\"This will not be printed.\")\n",
    "hw = \"Hello world\"\n",
    "print(hw) # computers are poopy"
   ]
  },
  {
   "cell_type": "markdown",
   "metadata": {
    "deletable": true,
    "editable": true,
    "nbpresent": {
     "id": "18e11148-dafa-4d67-a995-f86aed896a8c"
    },
    "slideshow": {
     "slide_type": "slide"
    }
   },
   "source": [
    "You can also make multiline comments, using triple quotes:"
   ]
  },
  {
   "cell_type": "code",
   "execution_count": null,
   "metadata": {
    "collapsed": false,
    "deletable": true,
    "editable": true,
    "nbpresent": {
     "id": "cd855801-8e7a-4c6d-a375-d3c086166e15"
    },
    "slideshow": {
     "slide_type": "subslide"
    }
   },
   "outputs": [],
   "source": [
    "'''This is a multi-line comment.\n",
    "   Technically, it is a string literal,\n",
    "   but because it doesn't do anything,\n",
    "   it's pretty much the same thing.\n",
    "   And can be used as such.\n",
    "   '''\n",
    "print(\"Hello world\")"
   ]
  },
  {
   "cell_type": "markdown",
   "metadata": {
    "collapsed": true,
    "deletable": true,
    "editable": true,
    "nbpresent": {
     "id": "5c916c5d-2740-42e1-8220-1ed5bcd8eafe"
    },
    "slideshow": {
     "slide_type": "slide"
    }
   },
   "source": [
    "   * <font color=darkred>**In a script (atom or spyder), define variables for your your name and eye color; have the computer salute you and compliment your eyes.  Run the script.**</font>\n",
    "     * Hint: `name = \"My Name\"`\n",
    "     \n",
    "   * <font color=darkred>**Create a script (e.g., `my_great_script.py` ) to run the program below.  Understand and correct _both_ of its errors.**</font>\n",
    "     * You can copy it from: [tinyurl.com/jucarva](http://tinyurl.com/jucarva), or this notebook (if you have it open)."
   ]
  },
  {
   "cell_type": "code",
   "execution_count": null,
   "metadata": {
    "collapsed": false,
    "deletable": true,
    "editable": true,
    "nbpresent": {
     "id": "6760c994-b584-497d-8a9e-ea77b38afa65"
    },
    "slideshow": {
     "slide_type": "subslide"
    }
   },
   "outputs": [],
   "source": [
    "#!/usr/bin/env python\n",
    "\n",
    "a = 26.2 # miles in a marathon \n",
    "b = 5    # km in a 5k\n",
    "km_per_mile = 1.61\n",
    "print(a, \"miles is\", a * km_per_mile, \"km.\")\n",
    "print(a, \"km is\", b * mile_per_km, \"miles.\")"
   ]
  },
  {
   "cell_type": "markdown",
   "metadata": {
    "deletable": true,
    "editable": true,
    "nbpresent": {
     "id": "8a21f80c-c664-4130-a76d-7f31d5709129"
    },
    "slideshow": {
     "slide_type": "slide"
    }
   },
   "source": [
    "### Let's now work through the basic types of variables."
   ]
  }
 ],
 "metadata": {
  "anaconda-cloud": {},
  "kernelspec": {
   "display_name": "Python [conda root]",
   "language": "python",
   "name": "conda-root-py"
  },
  "language_info": {
   "codemirror_mode": {
    "name": "ipython",
    "version": 3
   },
   "file_extension": ".py",
   "mimetype": "text/x-python",
   "name": "python",
   "nbconvert_exporter": "python",
   "pygments_lexer": "ipython3",
   "version": "3.5.3"
  },
  "nbpresent": {
   "slides": {},
   "themes": {
    "default": "9b7edf76-e23f-4940-a904-5c97d5caec3a",
    "theme": {
     "9b7edf76-e23f-4940-a904-5c97d5caec3a": {
      "id": "9b7edf76-e23f-4940-a904-5c97d5caec3a",
      "palette": {
       "19cc588f-0593-49c9-9f4b-e4d7cc113b1c": {
        "id": "19cc588f-0593-49c9-9f4b-e4d7cc113b1c",
        "rgb": [
         252,
         252,
         252
        ]
       },
       "31af15d2-7e15-44c5-ab5e-e04b16a89eff": {
        "id": "31af15d2-7e15-44c5-ab5e-e04b16a89eff",
        "rgb": [
         68,
         68,
         68
        ]
       },
       "50f92c45-a630-455b-aec3-788680ec7410": {
        "id": "50f92c45-a630-455b-aec3-788680ec7410",
        "rgb": [
         155,
         177,
         192
        ]
       },
       "c5cc3653-2ee1-402a-aba2-7caae1da4f6c": {
        "id": "c5cc3653-2ee1-402a-aba2-7caae1da4f6c",
        "rgb": [
         43,
         126,
         184
        ]
       },
       "efa7f048-9acb-414c-8b04-a26811511a21": {
        "id": "efa7f048-9acb-414c-8b04-a26811511a21",
        "rgb": [
         25.118061674008803,
         73.60176211453744,
         107.4819383259912
        ]
       }
      },
      "rules": {
       "blockquote": {
        "color": "50f92c45-a630-455b-aec3-788680ec7410"
       },
       "code": {
        "font-family": "Anonymous Pro"
       },
       "h1": {
        "color": "c5cc3653-2ee1-402a-aba2-7caae1da4f6c",
        "font-family": "Lato",
        "font-size": 8
       },
       "h2": {
        "color": "c5cc3653-2ee1-402a-aba2-7caae1da4f6c",
        "font-family": "Lato",
        "font-size": 6
       },
       "h3": {
        "color": "50f92c45-a630-455b-aec3-788680ec7410",
        "font-family": "Lato",
        "font-size": 5.5
       },
       "h4": {
        "color": "c5cc3653-2ee1-402a-aba2-7caae1da4f6c",
        "font-family": "Lato",
        "font-size": 5
       },
       "h5": {
        "font-family": "Lato"
       },
       "h6": {
        "font-family": "Lato"
       },
       "h7": {
        "font-family": "Lato"
       },
       "pre": {
        "font-family": "Anonymous Pro",
        "font-size": 4
       }
      },
      "text-base": {
       "font-family": "Merriweather",
       "font-size": 4
      }
     }
    }
   }
  }
 },
 "nbformat": 4,
 "nbformat_minor": 0
}
